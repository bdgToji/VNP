{
  "nbformat": 4,
  "nbformat_minor": 0,
  "metadata": {
    "colab": {
      "provenance": []
    },
    "kernelspec": {
      "name": "python3",
      "display_name": "Python 3"
    },
    "language_info": {
      "name": "python"
    }
  },
  "cells": [
    {
      "cell_type": "markdown",
      "source": [
        "# Симнете го податочното множество"
      ],
      "metadata": {
        "id": "8N4fqGc2aZT_"
      }
    },
    {
      "cell_type": "code",
      "execution_count": 1,
      "metadata": {
        "colab": {
          "base_uri": "https://localhost:8080/"
        },
        "id": "xTpQKOG2aWgN",
        "outputId": "b823d707-18bb-4fa2-e691-d72330785db6"
      },
      "outputs": [
        {
          "output_type": "stream",
          "name": "stdout",
          "text": [
            "Downloading...\n",
            "From: https://drive.google.com/uc?id=1-K5XbNHNLYBQG9VyTQUzxov_x5AmoITF\n",
            "To: /content/IMDB_5.csv\n",
            "\r  0% 0.00/323k [00:00<?, ?B/s]\r100% 323k/323k [00:00<00:00, 70.7MB/s]\n"
          ]
        }
      ],
      "source": [
        "!gdown 1-K5XbNHNLYBQG9VyTQUzxov_x5AmoITF"
      ]
    },
    {
      "cell_type": "markdown",
      "source": [
        "# Направете претпроцесирање на податоците"
      ],
      "metadata": {
        "id": "XKlMR4iaaaoQ"
      }
    },
    {
      "cell_type": "code",
      "source": [],
      "metadata": {
        "id": "EAqoaIujaarb"
      },
      "execution_count": null,
      "outputs": []
    },
    {
      "cell_type": "markdown",
      "source": [
        "# Поделето го на тренирачко и тестирачко множество во сооднос 80:20"
      ],
      "metadata": {
        "id": "D21LBDF2ad8N"
      }
    },
    {
      "cell_type": "code",
      "source": [],
      "metadata": {
        "id": "lpCRCjK3aea2"
      },
      "execution_count": null,
      "outputs": []
    },
    {
      "cell_type": "markdown",
      "source": [
        "# Искористете соодветен трансформер модел за проблемот"
      ],
      "metadata": {
        "id": "tSho0aNnaemf"
      }
    },
    {
      "cell_type": "code",
      "source": [],
      "metadata": {
        "id": "vG6-fMRzahv-"
      },
      "execution_count": null,
      "outputs": []
    },
    {
      "cell_type": "markdown",
      "source": [
        "# Фино-подесете (тренирајте) го моделот"
      ],
      "metadata": {
        "id": "3ImDyRptah0X"
      }
    },
    {
      "cell_type": "code",
      "source": [],
      "metadata": {
        "id": "lx5rmWfHakRb"
      },
      "execution_count": null,
      "outputs": []
    },
    {
      "cell_type": "markdown",
      "source": [
        "# Тестирајте го моделот на тестирачкото множество"
      ],
      "metadata": {
        "id": "J1iV5ac4akm5"
      }
    },
    {
      "cell_type": "code",
      "source": [],
      "metadata": {
        "id": "UY2S2D2RamQp"
      },
      "execution_count": null,
      "outputs": []
    },
    {
      "cell_type": "markdown",
      "source": [
        "# Пресметајте f1 score"
      ],
      "metadata": {
        "id": "Wc9O7EZPamWZ"
      }
    },
    {
      "cell_type": "code",
      "source": [],
      "metadata": {
        "id": "LHC4WE92a_kA"
      },
      "execution_count": null,
      "outputs": []
    }
  ]
}