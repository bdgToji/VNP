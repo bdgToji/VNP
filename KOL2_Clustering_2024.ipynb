{
  "nbformat": 4,
  "nbformat_minor": 0,
  "metadata": {
    "colab": {
      "provenance": [],
      "authorship_tag": "ABX9TyMGf7qLM9Fso7YG66qWg5Rh",
      "include_colab_link": true
    },
    "kernelspec": {
      "name": "python3",
      "display_name": "Python 3"
    },
    "language_info": {
      "name": "python"
    }
  },
  "cells": [
    {
      "cell_type": "markdown",
      "metadata": {
        "id": "view-in-github",
        "colab_type": "text"
      },
      "source": [
        "<a href=\"https://colab.research.google.com/github/bdgToji/VNP/blob/main/KOL2_Clustering_2024.ipynb\" target=\"_parent\"><img src=\"https://colab.research.google.com/assets/colab-badge.svg\" alt=\"Open In Colab\"/></a>"
      ]
    },
    {
      "cell_type": "markdown",
      "source": [
        "# Advanced Clustering: Generate clusters for sentiment analysis of the bitcoin tweets"
      ],
      "metadata": {
        "id": "YI4RvHUil7lP"
      }
    },
    {
      "cell_type": "code",
      "execution_count": 1,
      "metadata": {
        "colab": {
          "base_uri": "https://localhost:8080/"
        },
        "id": "fUHurPPRkhmJ",
        "outputId": "13852853-d544-4d59-8b0c-739909e4ce37"
      },
      "outputs": [
        {
          "output_type": "stream",
          "name": "stdout",
          "text": [
            "Mounted at /content/drive\n"
          ]
        }
      ],
      "source": [
        "from google.colab import drive\n",
        "drive.mount('/content/drive')"
      ]
    },
    {
      "cell_type": "code",
      "source": [
        "import pandas as pd\n",
        "from absl import logging\n",
        "import tensorflow as tf\n",
        "import tensorflow_hub as hub\n",
        "import matplotlib.pyplot as plt\n",
        "import numpy as np\n",
        "import os\n",
        "import re\n",
        "import seaborn as sns\n",
        "from sklearn.preprocessing import LabelEncoder\n",
        "from sklearn.cluster import KMeans, AgglomerativeClustering\n",
        "from sklearn.decomposition import PCA\n",
        "from sklearn.neighbors import kneighbors_graph"
      ],
      "metadata": {
        "id": "g5EbjRSzk2Nw"
      },
      "execution_count": 9,
      "outputs": []
    },
    {
      "cell_type": "code",
      "source": [
        "!pip install transformers"
      ],
      "metadata": {
        "colab": {
          "base_uri": "https://localhost:8080/"
        },
        "id": "ru6ANgnrm40g",
        "outputId": "88216a98-172e-454a-81ff-58260c165ec1"
      },
      "execution_count": 10,
      "outputs": [
        {
          "output_type": "stream",
          "name": "stdout",
          "text": [
            "Requirement already satisfied: transformers in /usr/local/lib/python3.10/dist-packages (4.41.2)\n",
            "Requirement already satisfied: filelock in /usr/local/lib/python3.10/dist-packages (from transformers) (3.14.0)\n",
            "Requirement already satisfied: huggingface-hub<1.0,>=0.23.0 in /usr/local/lib/python3.10/dist-packages (from transformers) (0.23.3)\n",
            "Requirement already satisfied: numpy>=1.17 in /usr/local/lib/python3.10/dist-packages (from transformers) (1.25.2)\n",
            "Requirement already satisfied: packaging>=20.0 in /usr/local/lib/python3.10/dist-packages (from transformers) (24.1)\n",
            "Requirement already satisfied: pyyaml>=5.1 in /usr/local/lib/python3.10/dist-packages (from transformers) (6.0.1)\n",
            "Requirement already satisfied: regex!=2019.12.17 in /usr/local/lib/python3.10/dist-packages (from transformers) (2024.5.15)\n",
            "Requirement already satisfied: requests in /usr/local/lib/python3.10/dist-packages (from transformers) (2.31.0)\n",
            "Requirement already satisfied: tokenizers<0.20,>=0.19 in /usr/local/lib/python3.10/dist-packages (from transformers) (0.19.1)\n",
            "Requirement already satisfied: safetensors>=0.4.1 in /usr/local/lib/python3.10/dist-packages (from transformers) (0.4.3)\n",
            "Requirement already satisfied: tqdm>=4.27 in /usr/local/lib/python3.10/dist-packages (from transformers) (4.66.4)\n",
            "Requirement already satisfied: fsspec>=2023.5.0 in /usr/local/lib/python3.10/dist-packages (from huggingface-hub<1.0,>=0.23.0->transformers) (2023.6.0)\n",
            "Requirement already satisfied: typing-extensions>=3.7.4.3 in /usr/local/lib/python3.10/dist-packages (from huggingface-hub<1.0,>=0.23.0->transformers) (4.12.2)\n",
            "Requirement already satisfied: charset-normalizer<4,>=2 in /usr/local/lib/python3.10/dist-packages (from requests->transformers) (3.3.2)\n",
            "Requirement already satisfied: idna<4,>=2.5 in /usr/local/lib/python3.10/dist-packages (from requests->transformers) (3.7)\n",
            "Requirement already satisfied: urllib3<3,>=1.21.1 in /usr/local/lib/python3.10/dist-packages (from requests->transformers) (2.0.7)\n",
            "Requirement already satisfied: certifi>=2017.4.17 in /usr/local/lib/python3.10/dist-packages (from requests->transformers) (2024.6.2)\n"
          ]
        }
      ]
    },
    {
      "cell_type": "markdown",
      "source": [
        "# Preprocessing"
      ],
      "metadata": {
        "id": "HCzyabfNl-vQ"
      }
    },
    {
      "cell_type": "code",
      "source": [
        "df = pd.read_csv('/content/drive/MyDrive/VNP/BTC_Tweets_Sentiment.csv')"
      ],
      "metadata": {
        "id": "wNXHSP_2k4xX"
      },
      "execution_count": 3,
      "outputs": []
    },
    {
      "cell_type": "code",
      "source": [
        "df.head()"
      ],
      "metadata": {
        "colab": {
          "base_uri": "https://localhost:8080/",
          "height": 310
        },
        "id": "V4lgHXOmlA1q",
        "outputId": "addf794e-5661-4343-dd5d-b178ef0ad9ce"
      },
      "execution_count": 5,
      "outputs": [
        {
          "output_type": "execute_result",
          "data": {
            "text/plain": [
              "   id                            Date  \\\n",
              "0   0  Fri Mar 23 00:40:32 +0000 2018   \n",
              "1   1  Fri Mar 23 00:40:34 +0000 2018   \n",
              "2   2  Fri Mar 23 00:40:35 +0000 2018   \n",
              "3   3  Fri Mar 23 00:40:36 +0000 2018   \n",
              "4   4  Fri Mar 23 00:40:36 +0000 2018   \n",
              "\n",
              "                                               Tweet     Screen_name  \\\n",
              "0  RT @ALXTOKEN: Paul Krugman, Nobel Luddite. I h...  myresumerocket   \n",
              "1  @lopp @_Kevin_Pham @psycho_sage @naval But @Pr...        BitMocro   \n",
              "2  RT @tippereconomy: Another use case for #block...    hojachotopur   \n",
              "3                 free coins https://t.co/DiuoePJdap   denies_distro   \n",
              "4  RT @payvxofficial: WE are happy to announce th...      aditzgraha   \n",
              "\n",
              "                                         Source  \\\n",
              "0                                            []   \n",
              "1                                  [u'Bitcoin']   \n",
              "2  [u'blockchain', u'Tipper', u'TipperEconomy']   \n",
              "3                                            []   \n",
              "4                                            []   \n",
              "\n",
              "                                                Link     Sentiment  \\\n",
              "0  <a href=\"http://twitter.com\" rel=\"nofollow\">Tw...   ['neutral']   \n",
              "1  <a href=\"http://twitter.com/download/android\" ...   ['neutral']   \n",
              "2  <a href=\"http://twitter.com\" rel=\"nofollow\">Tw...  ['positive']   \n",
              "3  <a href=\"http://twitter.com\" rel=\"nofollow\">Tw...  ['positive']   \n",
              "4  <a href=\"http://twitter.com/download/android\" ...  ['positive']   \n",
              "\n",
              "   sent_score  New_Sentiment_Score  New_Sentiment_State  BERT Labels  \n",
              "0         0.0             0.000000                  0.0            1  \n",
              "1         0.0             0.000000                  0.0            0  \n",
              "2         1.0             0.136364                  1.0            0  \n",
              "3         1.0             0.400000                  1.0            0  \n",
              "4         1.0             0.468182                  1.0            0  "
            ],
            "text/html": [
              "\n",
              "  <div id=\"df-ab719520-f7f4-45de-bc08-31b3679c43d9\" class=\"colab-df-container\">\n",
              "    <div>\n",
              "<style scoped>\n",
              "    .dataframe tbody tr th:only-of-type {\n",
              "        vertical-align: middle;\n",
              "    }\n",
              "\n",
              "    .dataframe tbody tr th {\n",
              "        vertical-align: top;\n",
              "    }\n",
              "\n",
              "    .dataframe thead th {\n",
              "        text-align: right;\n",
              "    }\n",
              "</style>\n",
              "<table border=\"1\" class=\"dataframe\">\n",
              "  <thead>\n",
              "    <tr style=\"text-align: right;\">\n",
              "      <th></th>\n",
              "      <th>id</th>\n",
              "      <th>Date</th>\n",
              "      <th>Tweet</th>\n",
              "      <th>Screen_name</th>\n",
              "      <th>Source</th>\n",
              "      <th>Link</th>\n",
              "      <th>Sentiment</th>\n",
              "      <th>sent_score</th>\n",
              "      <th>New_Sentiment_Score</th>\n",
              "      <th>New_Sentiment_State</th>\n",
              "      <th>BERT Labels</th>\n",
              "    </tr>\n",
              "  </thead>\n",
              "  <tbody>\n",
              "    <tr>\n",
              "      <th>0</th>\n",
              "      <td>0</td>\n",
              "      <td>Fri Mar 23 00:40:32 +0000 2018</td>\n",
              "      <td>RT @ALXTOKEN: Paul Krugman, Nobel Luddite. I h...</td>\n",
              "      <td>myresumerocket</td>\n",
              "      <td>[]</td>\n",
              "      <td>&lt;a href=\"http://twitter.com\" rel=\"nofollow\"&gt;Tw...</td>\n",
              "      <td>['neutral']</td>\n",
              "      <td>0.0</td>\n",
              "      <td>0.000000</td>\n",
              "      <td>0.0</td>\n",
              "      <td>1</td>\n",
              "    </tr>\n",
              "    <tr>\n",
              "      <th>1</th>\n",
              "      <td>1</td>\n",
              "      <td>Fri Mar 23 00:40:34 +0000 2018</td>\n",
              "      <td>@lopp @_Kevin_Pham @psycho_sage @naval But @Pr...</td>\n",
              "      <td>BitMocro</td>\n",
              "      <td>[u'Bitcoin']</td>\n",
              "      <td>&lt;a href=\"http://twitter.com/download/android\" ...</td>\n",
              "      <td>['neutral']</td>\n",
              "      <td>0.0</td>\n",
              "      <td>0.000000</td>\n",
              "      <td>0.0</td>\n",
              "      <td>0</td>\n",
              "    </tr>\n",
              "    <tr>\n",
              "      <th>2</th>\n",
              "      <td>2</td>\n",
              "      <td>Fri Mar 23 00:40:35 +0000 2018</td>\n",
              "      <td>RT @tippereconomy: Another use case for #block...</td>\n",
              "      <td>hojachotopur</td>\n",
              "      <td>[u'blockchain', u'Tipper', u'TipperEconomy']</td>\n",
              "      <td>&lt;a href=\"http://twitter.com\" rel=\"nofollow\"&gt;Tw...</td>\n",
              "      <td>['positive']</td>\n",
              "      <td>1.0</td>\n",
              "      <td>0.136364</td>\n",
              "      <td>1.0</td>\n",
              "      <td>0</td>\n",
              "    </tr>\n",
              "    <tr>\n",
              "      <th>3</th>\n",
              "      <td>3</td>\n",
              "      <td>Fri Mar 23 00:40:36 +0000 2018</td>\n",
              "      <td>free coins https://t.co/DiuoePJdap</td>\n",
              "      <td>denies_distro</td>\n",
              "      <td>[]</td>\n",
              "      <td>&lt;a href=\"http://twitter.com\" rel=\"nofollow\"&gt;Tw...</td>\n",
              "      <td>['positive']</td>\n",
              "      <td>1.0</td>\n",
              "      <td>0.400000</td>\n",
              "      <td>1.0</td>\n",
              "      <td>0</td>\n",
              "    </tr>\n",
              "    <tr>\n",
              "      <th>4</th>\n",
              "      <td>4</td>\n",
              "      <td>Fri Mar 23 00:40:36 +0000 2018</td>\n",
              "      <td>RT @payvxofficial: WE are happy to announce th...</td>\n",
              "      <td>aditzgraha</td>\n",
              "      <td>[]</td>\n",
              "      <td>&lt;a href=\"http://twitter.com/download/android\" ...</td>\n",
              "      <td>['positive']</td>\n",
              "      <td>1.0</td>\n",
              "      <td>0.468182</td>\n",
              "      <td>1.0</td>\n",
              "      <td>0</td>\n",
              "    </tr>\n",
              "  </tbody>\n",
              "</table>\n",
              "</div>\n",
              "    <div class=\"colab-df-buttons\">\n",
              "\n",
              "  <div class=\"colab-df-container\">\n",
              "    <button class=\"colab-df-convert\" onclick=\"convertToInteractive('df-ab719520-f7f4-45de-bc08-31b3679c43d9')\"\n",
              "            title=\"Convert this dataframe to an interactive table.\"\n",
              "            style=\"display:none;\">\n",
              "\n",
              "  <svg xmlns=\"http://www.w3.org/2000/svg\" height=\"24px\" viewBox=\"0 -960 960 960\">\n",
              "    <path d=\"M120-120v-720h720v720H120Zm60-500h600v-160H180v160Zm220 220h160v-160H400v160Zm0 220h160v-160H400v160ZM180-400h160v-160H180v160Zm440 0h160v-160H620v160ZM180-180h160v-160H180v160Zm440 0h160v-160H620v160Z\"/>\n",
              "  </svg>\n",
              "    </button>\n",
              "\n",
              "  <style>\n",
              "    .colab-df-container {\n",
              "      display:flex;\n",
              "      gap: 12px;\n",
              "    }\n",
              "\n",
              "    .colab-df-convert {\n",
              "      background-color: #E8F0FE;\n",
              "      border: none;\n",
              "      border-radius: 50%;\n",
              "      cursor: pointer;\n",
              "      display: none;\n",
              "      fill: #1967D2;\n",
              "      height: 32px;\n",
              "      padding: 0 0 0 0;\n",
              "      width: 32px;\n",
              "    }\n",
              "\n",
              "    .colab-df-convert:hover {\n",
              "      background-color: #E2EBFA;\n",
              "      box-shadow: 0px 1px 2px rgba(60, 64, 67, 0.3), 0px 1px 3px 1px rgba(60, 64, 67, 0.15);\n",
              "      fill: #174EA6;\n",
              "    }\n",
              "\n",
              "    .colab-df-buttons div {\n",
              "      margin-bottom: 4px;\n",
              "    }\n",
              "\n",
              "    [theme=dark] .colab-df-convert {\n",
              "      background-color: #3B4455;\n",
              "      fill: #D2E3FC;\n",
              "    }\n",
              "\n",
              "    [theme=dark] .colab-df-convert:hover {\n",
              "      background-color: #434B5C;\n",
              "      box-shadow: 0px 1px 3px 1px rgba(0, 0, 0, 0.15);\n",
              "      filter: drop-shadow(0px 1px 2px rgba(0, 0, 0, 0.3));\n",
              "      fill: #FFFFFF;\n",
              "    }\n",
              "  </style>\n",
              "\n",
              "    <script>\n",
              "      const buttonEl =\n",
              "        document.querySelector('#df-ab719520-f7f4-45de-bc08-31b3679c43d9 button.colab-df-convert');\n",
              "      buttonEl.style.display =\n",
              "        google.colab.kernel.accessAllowed ? 'block' : 'none';\n",
              "\n",
              "      async function convertToInteractive(key) {\n",
              "        const element = document.querySelector('#df-ab719520-f7f4-45de-bc08-31b3679c43d9');\n",
              "        const dataTable =\n",
              "          await google.colab.kernel.invokeFunction('convertToInteractive',\n",
              "                                                    [key], {});\n",
              "        if (!dataTable) return;\n",
              "\n",
              "        const docLinkHtml = 'Like what you see? Visit the ' +\n",
              "          '<a target=\"_blank\" href=https://colab.research.google.com/notebooks/data_table.ipynb>data table notebook</a>'\n",
              "          + ' to learn more about interactive tables.';\n",
              "        element.innerHTML = '';\n",
              "        dataTable['output_type'] = 'display_data';\n",
              "        await google.colab.output.renderOutput(dataTable, element);\n",
              "        const docLink = document.createElement('div');\n",
              "        docLink.innerHTML = docLinkHtml;\n",
              "        element.appendChild(docLink);\n",
              "      }\n",
              "    </script>\n",
              "  </div>\n",
              "\n",
              "\n",
              "<div id=\"df-329ceba4-8ae1-4059-9234-332aba07ccab\">\n",
              "  <button class=\"colab-df-quickchart\" onclick=\"quickchart('df-329ceba4-8ae1-4059-9234-332aba07ccab')\"\n",
              "            title=\"Suggest charts\"\n",
              "            style=\"display:none;\">\n",
              "\n",
              "<svg xmlns=\"http://www.w3.org/2000/svg\" height=\"24px\"viewBox=\"0 0 24 24\"\n",
              "     width=\"24px\">\n",
              "    <g>\n",
              "        <path d=\"M19 3H5c-1.1 0-2 .9-2 2v14c0 1.1.9 2 2 2h14c1.1 0 2-.9 2-2V5c0-1.1-.9-2-2-2zM9 17H7v-7h2v7zm4 0h-2V7h2v10zm4 0h-2v-4h2v4z\"/>\n",
              "    </g>\n",
              "</svg>\n",
              "  </button>\n",
              "\n",
              "<style>\n",
              "  .colab-df-quickchart {\n",
              "      --bg-color: #E8F0FE;\n",
              "      --fill-color: #1967D2;\n",
              "      --hover-bg-color: #E2EBFA;\n",
              "      --hover-fill-color: #174EA6;\n",
              "      --disabled-fill-color: #AAA;\n",
              "      --disabled-bg-color: #DDD;\n",
              "  }\n",
              "\n",
              "  [theme=dark] .colab-df-quickchart {\n",
              "      --bg-color: #3B4455;\n",
              "      --fill-color: #D2E3FC;\n",
              "      --hover-bg-color: #434B5C;\n",
              "      --hover-fill-color: #FFFFFF;\n",
              "      --disabled-bg-color: #3B4455;\n",
              "      --disabled-fill-color: #666;\n",
              "  }\n",
              "\n",
              "  .colab-df-quickchart {\n",
              "    background-color: var(--bg-color);\n",
              "    border: none;\n",
              "    border-radius: 50%;\n",
              "    cursor: pointer;\n",
              "    display: none;\n",
              "    fill: var(--fill-color);\n",
              "    height: 32px;\n",
              "    padding: 0;\n",
              "    width: 32px;\n",
              "  }\n",
              "\n",
              "  .colab-df-quickchart:hover {\n",
              "    background-color: var(--hover-bg-color);\n",
              "    box-shadow: 0 1px 2px rgba(60, 64, 67, 0.3), 0 1px 3px 1px rgba(60, 64, 67, 0.15);\n",
              "    fill: var(--button-hover-fill-color);\n",
              "  }\n",
              "\n",
              "  .colab-df-quickchart-complete:disabled,\n",
              "  .colab-df-quickchart-complete:disabled:hover {\n",
              "    background-color: var(--disabled-bg-color);\n",
              "    fill: var(--disabled-fill-color);\n",
              "    box-shadow: none;\n",
              "  }\n",
              "\n",
              "  .colab-df-spinner {\n",
              "    border: 2px solid var(--fill-color);\n",
              "    border-color: transparent;\n",
              "    border-bottom-color: var(--fill-color);\n",
              "    animation:\n",
              "      spin 1s steps(1) infinite;\n",
              "  }\n",
              "\n",
              "  @keyframes spin {\n",
              "    0% {\n",
              "      border-color: transparent;\n",
              "      border-bottom-color: var(--fill-color);\n",
              "      border-left-color: var(--fill-color);\n",
              "    }\n",
              "    20% {\n",
              "      border-color: transparent;\n",
              "      border-left-color: var(--fill-color);\n",
              "      border-top-color: var(--fill-color);\n",
              "    }\n",
              "    30% {\n",
              "      border-color: transparent;\n",
              "      border-left-color: var(--fill-color);\n",
              "      border-top-color: var(--fill-color);\n",
              "      border-right-color: var(--fill-color);\n",
              "    }\n",
              "    40% {\n",
              "      border-color: transparent;\n",
              "      border-right-color: var(--fill-color);\n",
              "      border-top-color: var(--fill-color);\n",
              "    }\n",
              "    60% {\n",
              "      border-color: transparent;\n",
              "      border-right-color: var(--fill-color);\n",
              "    }\n",
              "    80% {\n",
              "      border-color: transparent;\n",
              "      border-right-color: var(--fill-color);\n",
              "      border-bottom-color: var(--fill-color);\n",
              "    }\n",
              "    90% {\n",
              "      border-color: transparent;\n",
              "      border-bottom-color: var(--fill-color);\n",
              "    }\n",
              "  }\n",
              "</style>\n",
              "\n",
              "  <script>\n",
              "    async function quickchart(key) {\n",
              "      const quickchartButtonEl =\n",
              "        document.querySelector('#' + key + ' button');\n",
              "      quickchartButtonEl.disabled = true;  // To prevent multiple clicks.\n",
              "      quickchartButtonEl.classList.add('colab-df-spinner');\n",
              "      try {\n",
              "        const charts = await google.colab.kernel.invokeFunction(\n",
              "            'suggestCharts', [key], {});\n",
              "      } catch (error) {\n",
              "        console.error('Error during call to suggestCharts:', error);\n",
              "      }\n",
              "      quickchartButtonEl.classList.remove('colab-df-spinner');\n",
              "      quickchartButtonEl.classList.add('colab-df-quickchart-complete');\n",
              "    }\n",
              "    (() => {\n",
              "      let quickchartButtonEl =\n",
              "        document.querySelector('#df-329ceba4-8ae1-4059-9234-332aba07ccab button');\n",
              "      quickchartButtonEl.style.display =\n",
              "        google.colab.kernel.accessAllowed ? 'block' : 'none';\n",
              "    })();\n",
              "  </script>\n",
              "</div>\n",
              "    </div>\n",
              "  </div>\n"
            ],
            "application/vnd.google.colaboratory.intrinsic+json": {
              "type": "dataframe",
              "variable_name": "df",
              "summary": "{\n  \"name\": \"df\",\n  \"rows\": 50852,\n  \"fields\": [\n    {\n      \"column\": \"id\",\n      \"properties\": {\n        \"dtype\": \"number\",\n        \"std\": 14681,\n        \"min\": 0,\n        \"max\": 50858,\n        \"num_unique_values\": 50852,\n        \"samples\": [\n          15952,\n          35006,\n          20900\n        ],\n        \"semantic_type\": \"\",\n        \"description\": \"\"\n      }\n    },\n    {\n      \"column\": \"Date\",\n      \"properties\": {\n        \"dtype\": \"object\",\n        \"num_unique_values\": 23964,\n        \"samples\": [\n          \"Fri Mar 23 02:35:50 +0000 2018\",\n          \"Fri Mar 23 03:59:39 +0000 2018\",\n          \"Fri Mar 23 07:49:15 +0000 2018\"\n        ],\n        \"semantic_type\": \"\",\n        \"description\": \"\"\n      }\n    },\n    {\n      \"column\": \"Tweet\",\n      \"properties\": {\n        \"dtype\": \"string\",\n        \"num_unique_values\": 28135,\n        \"samples\": [\n          \"Coinbase Is In Talks to Buy One of Bitcoin's Best Funded Startups https://t.co/9pqTG91i05 - #crypto\",\n          \"RT @foxtradingfx: \\ud83d\\ude80 Only 1 days left to get your FOXT tokens with 20% BONUS!\\n\\nSign up here \\ud83d\\udc49 https://t.co/yErZI56wKb \\n\\n#foxtrading #trading\\u2026\",\n          \"@equitybaseCo would like to welcome Bitcoin evangelist to be our chief advisor.\\nhttps://t.co/GpbYnfgdtm\\n#ICO #equitybase\"\n        ],\n        \"semantic_type\": \"\",\n        \"description\": \"\"\n      }\n    },\n    {\n      \"column\": \"Screen_name\",\n      \"properties\": {\n        \"dtype\": \"category\",\n        \"num_unique_values\": 21310,\n        \"samples\": [\n          \"Deutschefinanzl\",\n          \"lnwaks\",\n          \"JasonMarcieski\"\n        ],\n        \"semantic_type\": \"\",\n        \"description\": \"\"\n      }\n    },\n    {\n      \"column\": \"Source\",\n      \"properties\": {\n        \"dtype\": \"category\",\n        \"num_unique_values\": 4854,\n        \"samples\": [\n          \"[u'MadeForMore', u'ShaheedDiwas', u'102NotOut', u'Chambalmovie', u'FridayFeeling', u'VivoV9']\",\n          \"[u'BTC', u'BITCOIN', u'TRX', u'ICX', u'LTC']\",\n          \"[u'Discount', u'IT', u'Training', u'Certification']\"\n        ],\n        \"semantic_type\": \"\",\n        \"description\": \"\"\n      }\n    },\n    {\n      \"column\": \"Link\",\n      \"properties\": {\n        \"dtype\": \"category\",\n        \"num_unique_values\": 1223,\n        \"samples\": [\n          \"<a href=\\\"http://www.hodlnews.io\\\" rel=\\\"nofollow\\\">hodlnewscross</a>\",\n          \"<a href=\\\"https://cryptoaud.io\\\" rel=\\\"nofollow\\\">CryptoAudio</a>\",\n          \"<a href=\\\"https://btcmanger.com\\\" rel=\\\"nofollow\\\">btc manager wordpress news</a>\"\n        ],\n        \"semantic_type\": \"\",\n        \"description\": \"\"\n      }\n    },\n    {\n      \"column\": \"Sentiment\",\n      \"properties\": {\n        \"dtype\": \"category\",\n        \"num_unique_values\": 3,\n        \"samples\": [\n          \"['neutral']\",\n          \"['positive']\",\n          \"['negative']\"\n        ],\n        \"semantic_type\": \"\",\n        \"description\": \"\"\n      }\n    },\n    {\n      \"column\": \"sent_score\",\n      \"properties\": {\n        \"dtype\": \"number\",\n        \"std\": 0.6764343117012731,\n        \"min\": -1.0,\n        \"max\": 1.0,\n        \"num_unique_values\": 3,\n        \"samples\": [\n          0.0,\n          1.0,\n          -1.0\n        ],\n        \"semantic_type\": \"\",\n        \"description\": \"\"\n      }\n    },\n    {\n      \"column\": \"New_Sentiment_Score\",\n      \"properties\": {\n        \"dtype\": \"number\",\n        \"std\": 0.25256386034288403,\n        \"min\": -1.0,\n        \"max\": 1.0,\n        \"num_unique_values\": 885,\n        \"samples\": [\n          0.2555555555555556,\n          0.4444444444444444,\n          0.2276515151515151\n        ],\n        \"semantic_type\": \"\",\n        \"description\": \"\"\n      }\n    },\n    {\n      \"column\": \"New_Sentiment_State\",\n      \"properties\": {\n        \"dtype\": \"number\",\n        \"std\": 0.6882621300441171,\n        \"min\": -1.0,\n        \"max\": 1.0,\n        \"num_unique_values\": 3,\n        \"samples\": [\n          0.0,\n          1.0,\n          -1.0\n        ],\n        \"semantic_type\": \"\",\n        \"description\": \"\"\n      }\n    },\n    {\n      \"column\": \"BERT Labels\",\n      \"properties\": {\n        \"dtype\": \"number\",\n        \"std\": 0,\n        \"min\": 0,\n        \"max\": 2,\n        \"num_unique_values\": 3,\n        \"samples\": [\n          1,\n          0,\n          2\n        ],\n        \"semantic_type\": \"\",\n        \"description\": \"\"\n      }\n    }\n  ]\n}"
            }
          },
          "metadata": {},
          "execution_count": 5
        }
      ]
    },
    {
      "cell_type": "code",
      "source": [
        "df = df.drop(columns=['id','sent_score','New_Sentiment_Score','New_Sentiment_State','BERT Labels'])"
      ],
      "metadata": {
        "id": "vXVAf8LFlReP"
      },
      "execution_count": 7,
      "outputs": []
    },
    {
      "cell_type": "code",
      "source": [
        "df.head()"
      ],
      "metadata": {
        "colab": {
          "base_uri": "https://localhost:8080/",
          "height": 206
        },
        "id": "Anfp61cwlwiN",
        "outputId": "603bc99c-dca4-4bfc-ec95-96e11a513e2f"
      },
      "execution_count": 8,
      "outputs": [
        {
          "output_type": "execute_result",
          "data": {
            "text/plain": [
              "                             Date  \\\n",
              "0  Fri Mar 23 00:40:32 +0000 2018   \n",
              "1  Fri Mar 23 00:40:34 +0000 2018   \n",
              "2  Fri Mar 23 00:40:35 +0000 2018   \n",
              "3  Fri Mar 23 00:40:36 +0000 2018   \n",
              "4  Fri Mar 23 00:40:36 +0000 2018   \n",
              "\n",
              "                                               Tweet     Screen_name  \\\n",
              "0  RT @ALXTOKEN: Paul Krugman, Nobel Luddite. I h...  myresumerocket   \n",
              "1  @lopp @_Kevin_Pham @psycho_sage @naval But @Pr...        BitMocro   \n",
              "2  RT @tippereconomy: Another use case for #block...    hojachotopur   \n",
              "3                 free coins https://t.co/DiuoePJdap   denies_distro   \n",
              "4  RT @payvxofficial: WE are happy to announce th...      aditzgraha   \n",
              "\n",
              "                                         Source  \\\n",
              "0                                            []   \n",
              "1                                  [u'Bitcoin']   \n",
              "2  [u'blockchain', u'Tipper', u'TipperEconomy']   \n",
              "3                                            []   \n",
              "4                                            []   \n",
              "\n",
              "                                                Link     Sentiment  \n",
              "0  <a href=\"http://twitter.com\" rel=\"nofollow\">Tw...   ['neutral']  \n",
              "1  <a href=\"http://twitter.com/download/android\" ...   ['neutral']  \n",
              "2  <a href=\"http://twitter.com\" rel=\"nofollow\">Tw...  ['positive']  \n",
              "3  <a href=\"http://twitter.com\" rel=\"nofollow\">Tw...  ['positive']  \n",
              "4  <a href=\"http://twitter.com/download/android\" ...  ['positive']  "
            ],
            "text/html": [
              "\n",
              "  <div id=\"df-9aac7687-4f73-443f-bd79-6e4d0894dfaa\" class=\"colab-df-container\">\n",
              "    <div>\n",
              "<style scoped>\n",
              "    .dataframe tbody tr th:only-of-type {\n",
              "        vertical-align: middle;\n",
              "    }\n",
              "\n",
              "    .dataframe tbody tr th {\n",
              "        vertical-align: top;\n",
              "    }\n",
              "\n",
              "    .dataframe thead th {\n",
              "        text-align: right;\n",
              "    }\n",
              "</style>\n",
              "<table border=\"1\" class=\"dataframe\">\n",
              "  <thead>\n",
              "    <tr style=\"text-align: right;\">\n",
              "      <th></th>\n",
              "      <th>Date</th>\n",
              "      <th>Tweet</th>\n",
              "      <th>Screen_name</th>\n",
              "      <th>Source</th>\n",
              "      <th>Link</th>\n",
              "      <th>Sentiment</th>\n",
              "    </tr>\n",
              "  </thead>\n",
              "  <tbody>\n",
              "    <tr>\n",
              "      <th>0</th>\n",
              "      <td>Fri Mar 23 00:40:32 +0000 2018</td>\n",
              "      <td>RT @ALXTOKEN: Paul Krugman, Nobel Luddite. I h...</td>\n",
              "      <td>myresumerocket</td>\n",
              "      <td>[]</td>\n",
              "      <td>&lt;a href=\"http://twitter.com\" rel=\"nofollow\"&gt;Tw...</td>\n",
              "      <td>['neutral']</td>\n",
              "    </tr>\n",
              "    <tr>\n",
              "      <th>1</th>\n",
              "      <td>Fri Mar 23 00:40:34 +0000 2018</td>\n",
              "      <td>@lopp @_Kevin_Pham @psycho_sage @naval But @Pr...</td>\n",
              "      <td>BitMocro</td>\n",
              "      <td>[u'Bitcoin']</td>\n",
              "      <td>&lt;a href=\"http://twitter.com/download/android\" ...</td>\n",
              "      <td>['neutral']</td>\n",
              "    </tr>\n",
              "    <tr>\n",
              "      <th>2</th>\n",
              "      <td>Fri Mar 23 00:40:35 +0000 2018</td>\n",
              "      <td>RT @tippereconomy: Another use case for #block...</td>\n",
              "      <td>hojachotopur</td>\n",
              "      <td>[u'blockchain', u'Tipper', u'TipperEconomy']</td>\n",
              "      <td>&lt;a href=\"http://twitter.com\" rel=\"nofollow\"&gt;Tw...</td>\n",
              "      <td>['positive']</td>\n",
              "    </tr>\n",
              "    <tr>\n",
              "      <th>3</th>\n",
              "      <td>Fri Mar 23 00:40:36 +0000 2018</td>\n",
              "      <td>free coins https://t.co/DiuoePJdap</td>\n",
              "      <td>denies_distro</td>\n",
              "      <td>[]</td>\n",
              "      <td>&lt;a href=\"http://twitter.com\" rel=\"nofollow\"&gt;Tw...</td>\n",
              "      <td>['positive']</td>\n",
              "    </tr>\n",
              "    <tr>\n",
              "      <th>4</th>\n",
              "      <td>Fri Mar 23 00:40:36 +0000 2018</td>\n",
              "      <td>RT @payvxofficial: WE are happy to announce th...</td>\n",
              "      <td>aditzgraha</td>\n",
              "      <td>[]</td>\n",
              "      <td>&lt;a href=\"http://twitter.com/download/android\" ...</td>\n",
              "      <td>['positive']</td>\n",
              "    </tr>\n",
              "  </tbody>\n",
              "</table>\n",
              "</div>\n",
              "    <div class=\"colab-df-buttons\">\n",
              "\n",
              "  <div class=\"colab-df-container\">\n",
              "    <button class=\"colab-df-convert\" onclick=\"convertToInteractive('df-9aac7687-4f73-443f-bd79-6e4d0894dfaa')\"\n",
              "            title=\"Convert this dataframe to an interactive table.\"\n",
              "            style=\"display:none;\">\n",
              "\n",
              "  <svg xmlns=\"http://www.w3.org/2000/svg\" height=\"24px\" viewBox=\"0 -960 960 960\">\n",
              "    <path d=\"M120-120v-720h720v720H120Zm60-500h600v-160H180v160Zm220 220h160v-160H400v160Zm0 220h160v-160H400v160ZM180-400h160v-160H180v160Zm440 0h160v-160H620v160ZM180-180h160v-160H180v160Zm440 0h160v-160H620v160Z\"/>\n",
              "  </svg>\n",
              "    </button>\n",
              "\n",
              "  <style>\n",
              "    .colab-df-container {\n",
              "      display:flex;\n",
              "      gap: 12px;\n",
              "    }\n",
              "\n",
              "    .colab-df-convert {\n",
              "      background-color: #E8F0FE;\n",
              "      border: none;\n",
              "      border-radius: 50%;\n",
              "      cursor: pointer;\n",
              "      display: none;\n",
              "      fill: #1967D2;\n",
              "      height: 32px;\n",
              "      padding: 0 0 0 0;\n",
              "      width: 32px;\n",
              "    }\n",
              "\n",
              "    .colab-df-convert:hover {\n",
              "      background-color: #E2EBFA;\n",
              "      box-shadow: 0px 1px 2px rgba(60, 64, 67, 0.3), 0px 1px 3px 1px rgba(60, 64, 67, 0.15);\n",
              "      fill: #174EA6;\n",
              "    }\n",
              "\n",
              "    .colab-df-buttons div {\n",
              "      margin-bottom: 4px;\n",
              "    }\n",
              "\n",
              "    [theme=dark] .colab-df-convert {\n",
              "      background-color: #3B4455;\n",
              "      fill: #D2E3FC;\n",
              "    }\n",
              "\n",
              "    [theme=dark] .colab-df-convert:hover {\n",
              "      background-color: #434B5C;\n",
              "      box-shadow: 0px 1px 3px 1px rgba(0, 0, 0, 0.15);\n",
              "      filter: drop-shadow(0px 1px 2px rgba(0, 0, 0, 0.3));\n",
              "      fill: #FFFFFF;\n",
              "    }\n",
              "  </style>\n",
              "\n",
              "    <script>\n",
              "      const buttonEl =\n",
              "        document.querySelector('#df-9aac7687-4f73-443f-bd79-6e4d0894dfaa button.colab-df-convert');\n",
              "      buttonEl.style.display =\n",
              "        google.colab.kernel.accessAllowed ? 'block' : 'none';\n",
              "\n",
              "      async function convertToInteractive(key) {\n",
              "        const element = document.querySelector('#df-9aac7687-4f73-443f-bd79-6e4d0894dfaa');\n",
              "        const dataTable =\n",
              "          await google.colab.kernel.invokeFunction('convertToInteractive',\n",
              "                                                    [key], {});\n",
              "        if (!dataTable) return;\n",
              "\n",
              "        const docLinkHtml = 'Like what you see? Visit the ' +\n",
              "          '<a target=\"_blank\" href=https://colab.research.google.com/notebooks/data_table.ipynb>data table notebook</a>'\n",
              "          + ' to learn more about interactive tables.';\n",
              "        element.innerHTML = '';\n",
              "        dataTable['output_type'] = 'display_data';\n",
              "        await google.colab.output.renderOutput(dataTable, element);\n",
              "        const docLink = document.createElement('div');\n",
              "        docLink.innerHTML = docLinkHtml;\n",
              "        element.appendChild(docLink);\n",
              "      }\n",
              "    </script>\n",
              "  </div>\n",
              "\n",
              "\n",
              "<div id=\"df-30be5995-fc7f-4318-9be5-01e1ccd8aece\">\n",
              "  <button class=\"colab-df-quickchart\" onclick=\"quickchart('df-30be5995-fc7f-4318-9be5-01e1ccd8aece')\"\n",
              "            title=\"Suggest charts\"\n",
              "            style=\"display:none;\">\n",
              "\n",
              "<svg xmlns=\"http://www.w3.org/2000/svg\" height=\"24px\"viewBox=\"0 0 24 24\"\n",
              "     width=\"24px\">\n",
              "    <g>\n",
              "        <path d=\"M19 3H5c-1.1 0-2 .9-2 2v14c0 1.1.9 2 2 2h14c1.1 0 2-.9 2-2V5c0-1.1-.9-2-2-2zM9 17H7v-7h2v7zm4 0h-2V7h2v10zm4 0h-2v-4h2v4z\"/>\n",
              "    </g>\n",
              "</svg>\n",
              "  </button>\n",
              "\n",
              "<style>\n",
              "  .colab-df-quickchart {\n",
              "      --bg-color: #E8F0FE;\n",
              "      --fill-color: #1967D2;\n",
              "      --hover-bg-color: #E2EBFA;\n",
              "      --hover-fill-color: #174EA6;\n",
              "      --disabled-fill-color: #AAA;\n",
              "      --disabled-bg-color: #DDD;\n",
              "  }\n",
              "\n",
              "  [theme=dark] .colab-df-quickchart {\n",
              "      --bg-color: #3B4455;\n",
              "      --fill-color: #D2E3FC;\n",
              "      --hover-bg-color: #434B5C;\n",
              "      --hover-fill-color: #FFFFFF;\n",
              "      --disabled-bg-color: #3B4455;\n",
              "      --disabled-fill-color: #666;\n",
              "  }\n",
              "\n",
              "  .colab-df-quickchart {\n",
              "    background-color: var(--bg-color);\n",
              "    border: none;\n",
              "    border-radius: 50%;\n",
              "    cursor: pointer;\n",
              "    display: none;\n",
              "    fill: var(--fill-color);\n",
              "    height: 32px;\n",
              "    padding: 0;\n",
              "    width: 32px;\n",
              "  }\n",
              "\n",
              "  .colab-df-quickchart:hover {\n",
              "    background-color: var(--hover-bg-color);\n",
              "    box-shadow: 0 1px 2px rgba(60, 64, 67, 0.3), 0 1px 3px 1px rgba(60, 64, 67, 0.15);\n",
              "    fill: var(--button-hover-fill-color);\n",
              "  }\n",
              "\n",
              "  .colab-df-quickchart-complete:disabled,\n",
              "  .colab-df-quickchart-complete:disabled:hover {\n",
              "    background-color: var(--disabled-bg-color);\n",
              "    fill: var(--disabled-fill-color);\n",
              "    box-shadow: none;\n",
              "  }\n",
              "\n",
              "  .colab-df-spinner {\n",
              "    border: 2px solid var(--fill-color);\n",
              "    border-color: transparent;\n",
              "    border-bottom-color: var(--fill-color);\n",
              "    animation:\n",
              "      spin 1s steps(1) infinite;\n",
              "  }\n",
              "\n",
              "  @keyframes spin {\n",
              "    0% {\n",
              "      border-color: transparent;\n",
              "      border-bottom-color: var(--fill-color);\n",
              "      border-left-color: var(--fill-color);\n",
              "    }\n",
              "    20% {\n",
              "      border-color: transparent;\n",
              "      border-left-color: var(--fill-color);\n",
              "      border-top-color: var(--fill-color);\n",
              "    }\n",
              "    30% {\n",
              "      border-color: transparent;\n",
              "      border-left-color: var(--fill-color);\n",
              "      border-top-color: var(--fill-color);\n",
              "      border-right-color: var(--fill-color);\n",
              "    }\n",
              "    40% {\n",
              "      border-color: transparent;\n",
              "      border-right-color: var(--fill-color);\n",
              "      border-top-color: var(--fill-color);\n",
              "    }\n",
              "    60% {\n",
              "      border-color: transparent;\n",
              "      border-right-color: var(--fill-color);\n",
              "    }\n",
              "    80% {\n",
              "      border-color: transparent;\n",
              "      border-right-color: var(--fill-color);\n",
              "      border-bottom-color: var(--fill-color);\n",
              "    }\n",
              "    90% {\n",
              "      border-color: transparent;\n",
              "      border-bottom-color: var(--fill-color);\n",
              "    }\n",
              "  }\n",
              "</style>\n",
              "\n",
              "  <script>\n",
              "    async function quickchart(key) {\n",
              "      const quickchartButtonEl =\n",
              "        document.querySelector('#' + key + ' button');\n",
              "      quickchartButtonEl.disabled = true;  // To prevent multiple clicks.\n",
              "      quickchartButtonEl.classList.add('colab-df-spinner');\n",
              "      try {\n",
              "        const charts = await google.colab.kernel.invokeFunction(\n",
              "            'suggestCharts', [key], {});\n",
              "      } catch (error) {\n",
              "        console.error('Error during call to suggestCharts:', error);\n",
              "      }\n",
              "      quickchartButtonEl.classList.remove('colab-df-spinner');\n",
              "      quickchartButtonEl.classList.add('colab-df-quickchart-complete');\n",
              "    }\n",
              "    (() => {\n",
              "      let quickchartButtonEl =\n",
              "        document.querySelector('#df-30be5995-fc7f-4318-9be5-01e1ccd8aece button');\n",
              "      quickchartButtonEl.style.display =\n",
              "        google.colab.kernel.accessAllowed ? 'block' : 'none';\n",
              "    })();\n",
              "  </script>\n",
              "</div>\n",
              "    </div>\n",
              "  </div>\n"
            ],
            "application/vnd.google.colaboratory.intrinsic+json": {
              "type": "dataframe",
              "variable_name": "df",
              "summary": "{\n  \"name\": \"df\",\n  \"rows\": 50852,\n  \"fields\": [\n    {\n      \"column\": \"Date\",\n      \"properties\": {\n        \"dtype\": \"object\",\n        \"num_unique_values\": 23964,\n        \"samples\": [\n          \"Fri Mar 23 02:35:50 +0000 2018\",\n          \"Fri Mar 23 03:59:39 +0000 2018\",\n          \"Fri Mar 23 07:49:15 +0000 2018\"\n        ],\n        \"semantic_type\": \"\",\n        \"description\": \"\"\n      }\n    },\n    {\n      \"column\": \"Tweet\",\n      \"properties\": {\n        \"dtype\": \"string\",\n        \"num_unique_values\": 28135,\n        \"samples\": [\n          \"Coinbase Is In Talks to Buy One of Bitcoin's Best Funded Startups https://t.co/9pqTG91i05 - #crypto\",\n          \"RT @foxtradingfx: \\ud83d\\ude80 Only 1 days left to get your FOXT tokens with 20% BONUS!\\n\\nSign up here \\ud83d\\udc49 https://t.co/yErZI56wKb \\n\\n#foxtrading #trading\\u2026\",\n          \"@equitybaseCo would like to welcome Bitcoin evangelist to be our chief advisor.\\nhttps://t.co/GpbYnfgdtm\\n#ICO #equitybase\"\n        ],\n        \"semantic_type\": \"\",\n        \"description\": \"\"\n      }\n    },\n    {\n      \"column\": \"Screen_name\",\n      \"properties\": {\n        \"dtype\": \"category\",\n        \"num_unique_values\": 21310,\n        \"samples\": [\n          \"Deutschefinanzl\",\n          \"lnwaks\",\n          \"JasonMarcieski\"\n        ],\n        \"semantic_type\": \"\",\n        \"description\": \"\"\n      }\n    },\n    {\n      \"column\": \"Source\",\n      \"properties\": {\n        \"dtype\": \"category\",\n        \"num_unique_values\": 4854,\n        \"samples\": [\n          \"[u'MadeForMore', u'ShaheedDiwas', u'102NotOut', u'Chambalmovie', u'FridayFeeling', u'VivoV9']\",\n          \"[u'BTC', u'BITCOIN', u'TRX', u'ICX', u'LTC']\",\n          \"[u'Discount', u'IT', u'Training', u'Certification']\"\n        ],\n        \"semantic_type\": \"\",\n        \"description\": \"\"\n      }\n    },\n    {\n      \"column\": \"Link\",\n      \"properties\": {\n        \"dtype\": \"category\",\n        \"num_unique_values\": 1223,\n        \"samples\": [\n          \"<a href=\\\"http://www.hodlnews.io\\\" rel=\\\"nofollow\\\">hodlnewscross</a>\",\n          \"<a href=\\\"https://cryptoaud.io\\\" rel=\\\"nofollow\\\">CryptoAudio</a>\",\n          \"<a href=\\\"https://btcmanger.com\\\" rel=\\\"nofollow\\\">btc manager wordpress news</a>\"\n        ],\n        \"semantic_type\": \"\",\n        \"description\": \"\"\n      }\n    },\n    {\n      \"column\": \"Sentiment\",\n      \"properties\": {\n        \"dtype\": \"category\",\n        \"num_unique_values\": 3,\n        \"samples\": [\n          \"['neutral']\",\n          \"['positive']\",\n          \"['negative']\"\n        ],\n        \"semantic_type\": \"\",\n        \"description\": \"\"\n      }\n    }\n  ]\n}"
            }
          },
          "metadata": {},
          "execution_count": 8
        }
      ]
    },
    {
      "cell_type": "code",
      "source": [
        "encoder = LabelEncoder()\n",
        "\n",
        "df['Sentiment'] =encoder.fit_transform(df['Sentiment'])"
      ],
      "metadata": {
        "id": "KXUpSr1snIZA"
      },
      "execution_count": 13,
      "outputs": []
    },
    {
      "cell_type": "code",
      "source": [
        "df['Sentiment'].value_counts()"
      ],
      "metadata": {
        "colab": {
          "base_uri": "https://localhost:8080/"
        },
        "id": "szFGuYvanPSo",
        "outputId": "1b8552f1-bf5a-4455-af60-b28677c0ef70"
      },
      "execution_count": 14,
      "outputs": [
        {
          "output_type": "execute_result",
          "data": {
            "text/plain": [
              "Sentiment\n",
              "2    22937\n",
              "1    21932\n",
              "0     5983\n",
              "Name: count, dtype: int64"
            ]
          },
          "metadata": {},
          "execution_count": 14
        }
      ]
    },
    {
      "cell_type": "markdown",
      "source": [
        "# Universal Sentence Encoder"
      ],
      "metadata": {
        "id": "Drajvl2EmCLD"
      }
    },
    {
      "cell_type": "code",
      "source": [
        "module_url = \"https://tfhub.dev/google/universal-sentence-encoder/4\"\n",
        "model = hub.load(module_url)\n",
        "print (\"module %s loaded\" % module_url)\n",
        "def embed(input):\n",
        "  return model(input)"
      ],
      "metadata": {
        "colab": {
          "base_uri": "https://localhost:8080/"
        },
        "id": "HYlOhYwLmCnD",
        "outputId": "0df21fd6-f265-465f-812c-841228647e5b"
      },
      "execution_count": 15,
      "outputs": [
        {
          "output_type": "stream",
          "name": "stdout",
          "text": [
            "module https://tfhub.dev/google/universal-sentence-encoder/4 loaded\n"
          ]
        }
      ]
    },
    {
      "cell_type": "code",
      "source": [
        "logging.set_verbosity(logging.ERROR)\n",
        "\n",
        "message_embeddings = embed(df.Tweet.values)"
      ],
      "metadata": {
        "id": "2IfETPornkN9"
      },
      "execution_count": 18,
      "outputs": []
    },
    {
      "cell_type": "code",
      "source": [
        "message_embeddings"
      ],
      "metadata": {
        "colab": {
          "base_uri": "https://localhost:8080/"
        },
        "id": "Lz9H138snxGA",
        "outputId": "b67a5463-4ad6-421a-a9bd-4d4fa8ea8ea9"
      },
      "execution_count": 19,
      "outputs": [
        {
          "output_type": "execute_result",
          "data": {
            "text/plain": [
              "<tf.Tensor: shape=(50852, 512), dtype=float32, numpy=\n",
              "array([[-0.03834763, -0.04177495, -0.03000215, ...,  0.05547818,\n",
              "        -0.05757411, -0.05747128],\n",
              "       [-0.00023587, -0.04965301, -0.04544644, ..., -0.00699701,\n",
              "        -0.0817619 , -0.06738114],\n",
              "       [-0.00882475, -0.06427665, -0.06390414, ...,  0.05352812,\n",
              "        -0.06909753, -0.0684047 ],\n",
              "       ...,\n",
              "       [-0.03637782, -0.07333582, -0.02006671, ...,  0.00748271,\n",
              "        -0.06006524, -0.0688739 ],\n",
              "       [-0.01435385, -0.0501017 ,  0.00692282, ..., -0.01416572,\n",
              "        -0.07574023, -0.07719906],\n",
              "       [-0.00828403, -0.08008461, -0.03335601, ..., -0.01549363,\n",
              "        -0.03189274, -0.02582982]], dtype=float32)>"
            ]
          },
          "metadata": {},
          "execution_count": 19
        }
      ]
    },
    {
      "cell_type": "markdown",
      "source": [
        "# K-Means Clustering"
      ],
      "metadata": {
        "id": "ZDMMAWeBmEX5"
      }
    },
    {
      "cell_type": "code",
      "source": [
        "km = KMeans(n_clusters=3)\n",
        "km.fit(message_embeddings)\n",
        "clusters = km.labels_.tolist()"
      ],
      "metadata": {
        "colab": {
          "base_uri": "https://localhost:8080/"
        },
        "id": "spB6qBLEmFQG",
        "outputId": "93920e6a-f77f-4494-88ff-4048a09e0142"
      },
      "execution_count": 20,
      "outputs": [
        {
          "output_type": "stream",
          "name": "stderr",
          "text": [
            "/usr/local/lib/python3.10/dist-packages/sklearn/cluster/_kmeans.py:870: FutureWarning: The default value of `n_init` will change from 10 to 'auto' in 1.4. Set the value of `n_init` explicitly to suppress the warning\n",
            "  warnings.warn(\n"
          ]
        }
      ]
    },
    {
      "cell_type": "code",
      "source": [
        "data = message_embeddings\n",
        "pca = PCA(2)\n",
        "\n",
        "#Transform the data\n",
        "df_new = pca.fit_transform(data)"
      ],
      "metadata": {
        "id": "kJuGnzc2n7eX"
      },
      "execution_count": 21,
      "outputs": []
    },
    {
      "cell_type": "code",
      "source": [
        "#Initialize the class object\n",
        "kmeans = KMeans(n_clusters=3)\n",
        "\n",
        "#predict the labels of clusters.\n",
        "label = kmeans.fit_predict(df_new)\n",
        "\n",
        "#Getting unique labels\n",
        "u_labels = np.unique(label)\n",
        "\n",
        "labels = kmeans.labels_"
      ],
      "metadata": {
        "colab": {
          "base_uri": "https://localhost:8080/"
        },
        "id": "3k8baIVboA4c",
        "outputId": "9ea0d7a1-845c-44c4-83f4-14e7dc04657e"
      },
      "execution_count": 22,
      "outputs": [
        {
          "output_type": "stream",
          "name": "stderr",
          "text": [
            "/usr/local/lib/python3.10/dist-packages/sklearn/cluster/_kmeans.py:870: FutureWarning: The default value of `n_init` will change from 10 to 'auto' in 1.4. Set the value of `n_init` explicitly to suppress the warning\n",
            "  warnings.warn(\n"
          ]
        }
      ]
    },
    {
      "cell_type": "code",
      "source": [
        "%matplotlib inline\n",
        "#plotting the results:\n",
        "for i in u_labels:\n",
        "    plt.scatter(df_new[label == i , 0] , df_new[label == i , 1] , label = i)\n",
        "plt.legend()\n",
        "plt.show()"
      ],
      "metadata": {
        "colab": {
          "base_uri": "https://localhost:8080/",
          "height": 430
        },
        "id": "2LUee98zoE0T",
        "outputId": "fa3a01e7-3d8b-4d2a-8973-3516acd58864"
      },
      "execution_count": 23,
      "outputs": [
        {
          "output_type": "display_data",
          "data": {
            "text/plain": [
              "<Figure size 640x480 with 1 Axes>"
            ],
            "image/png": "[encoded data removed]"
          },
          "metadata": {}
        }
      ]
    },
    {
      "cell_type": "markdown",
      "source": [
        "# Agglomerative Clustering"
      ],
      "metadata": {
        "id": "nq-GC3wumFVT"
      }
    },
    {
      "cell_type": "code",
      "source": [
        "data = message_embeddings\n",
        "pca = PCA(2)\n",
        "\n",
        "#Transform the data\n",
        "df_new = pca.fit_transform(data)"
      ],
      "metadata": {
        "id": "LvkExVQ6mIy4"
      },
      "execution_count": 24,
      "outputs": []
    },
    {
      "cell_type": "code",
      "source": [
        "connectivity = kneighbors_graph(df_new, n_neighbors=10, include_self=False)"
      ],
      "metadata": {
        "id": "__WcIUkfoS2r"
      },
      "execution_count": 25,
      "outputs": []
    },
    {
      "cell_type": "code",
      "source": [
        "model = AgglomerativeClustering(n_clusters=3, connectivity=connectivity, linkage='ward').fit(df_new)"
      ],
      "metadata": {
        "colab": {
          "base_uri": "https://localhost:8080/"
        },
        "id": "Z0Kryh4CoVN2",
        "outputId": "86f8e0d8-9deb-4ec2-9621-85f09bb2da2b"
      },
      "execution_count": 26,
      "outputs": [
        {
          "output_type": "stream",
          "name": "stderr",
          "text": [
            "/usr/local/lib/python3.10/dist-packages/sklearn/cluster/_agglomerative.py:282: UserWarning: the number of connected components of the connectivity matrix is 29 > 1. Completing it to avoid stopping the tree early.\n",
            "  connectivity, n_connected_components = _fix_connectivity(\n"
          ]
        }
      ]
    },
    {
      "cell_type": "code",
      "source": [
        "clusters = model.labels_.tolist()"
      ],
      "metadata": {
        "id": "pQYCjm1Pobfh"
      },
      "execution_count": 27,
      "outputs": []
    },
    {
      "cell_type": "code",
      "source": [
        "model.labels_"
      ],
      "metadata": {
        "colab": {
          "base_uri": "https://localhost:8080/"
        },
        "id": "CRlM7UYsodXg",
        "outputId": "f819668e-18dc-4ff9-bc95-b2a8c9d3e85b"
      },
      "execution_count": 28,
      "outputs": [
        {
          "output_type": "execute_result",
          "data": {
            "text/plain": [
              "array([2, 2, 0, ..., 0, 2, 0])"
            ]
          },
          "metadata": {},
          "execution_count": 28
        }
      ]
    },
    {
      "cell_type": "code",
      "source": [
        "%matplotlib inline\n",
        "\n",
        "label = model.fit_predict(df_new)\n",
        "\n",
        "u_labels = np.unique(label)\n",
        "\n",
        "#plotting the results:\n",
        "for i in u_labels:\n",
        "    plt.scatter(df_new[label == i , 0] , df_new[label == i , 1] , label = i)\n",
        "plt.legend()\n",
        "plt.show()"
      ],
      "metadata": {
        "colab": {
          "base_uri": "https://localhost:8080/",
          "height": 466
        },
        "id": "98-s7BALogtf",
        "outputId": "ec610d48-db04-45ec-e2ba-6a0bf8985eac"
      },
      "execution_count": 29,
      "outputs": [
        {
          "output_type": "stream",
          "name": "stderr",
          "text": [
            "/usr/local/lib/python3.10/dist-packages/sklearn/cluster/_agglomerative.py:282: UserWarning: the number of connected components of the connectivity matrix is 29 > 1. Completing it to avoid stopping the tree early.\n",
            "  connectivity, n_connected_components = _fix_connectivity(\n"
          ]
        },
        {
          "output_type": "display_data",
          "data": {
            "text/plain": [
              "<Figure size 640x480 with 1 Axes>"
            ],
            "image/png": "[encoded data removed]"
          },
          "metadata": {}
        }
      ]
    }
  ]
}