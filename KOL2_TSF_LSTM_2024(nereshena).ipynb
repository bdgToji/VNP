{
  "nbformat": 4,
  "nbformat_minor": 0,
  "metadata": {
    "colab": {
      "provenance": []
    },
    "kernelspec": {
      "name": "python3",
      "display_name": "Python 3"
    },
    "language_info": {
      "name": "python"
    }
  },
  "cells": [
    {
      "cell_type": "markdown",
      "source": [
        "# Time-series Forecasting\n",
        "\n",
        "## Description\n",
        "The data consists of 52,416 observations of energy consumption on a 10-minute window. Every observation is described by the following feature columns.\n",
        "\n",
        "Your task is to **aggregate the observations on an interval of 38 minutes**. For this time interval, using the values of the **9 previous time intervals**, forecast the target value one step in the future. Choose which features you are going to use.\n",
        "\n",
        "**You must train an LSTM network.**\n",
        "\n",
        "\n",
        "\n",
        "Features:\n",
        "\n",
        "* TimePeriod: Time window of ten minutes.\n",
        "* WT: Weather Temperature.\n",
        "* WH: Weather Humidity.\n",
        "* WS: Wind Speed.\n",
        "* GDF: General Diffuse Flow. “Diffuse flow” is a catchall term to describe low-temperature (< 0.2° to ~ 100°C) fluids that slowly discharge through sulfide mounds, fractured lava flows, and assemblages of bacterial mats and macrofauna.\n",
        "* DF: DiffuseFlows\n",
        "\n",
        "Target:\n",
        "\n",
        "Consumption\n",
        "\n",
        "## Dateset links:\n",
        " * [DS1](https://drive.google.com/file/d/1-8neeIpiq6yzWVw4EG_WgzHX4kPH1n1j/view?usp=sharing)\n",
        " * [DS2](https://drive.google.com/file/d/1-LhrUaH59q8O0SYB8WE-Eov2gaTMQYVx/view?usp=sharing)"
      ],
      "metadata": {
        "id": "6OKQIielPxsN"
      }
    },
    {
      "cell_type": "code",
      "execution_count": 2,
      "metadata": {
        "colab": {
          "base_uri": "https://localhost:8080/"
        },
        "id": "pGRNGkVqOhNy",
        "outputId": "19ec73f6-49fd-477b-a37c-669dffac8f78"
      },
      "outputs": [
        {
          "output_type": "stream",
          "name": "stdout",
          "text": [
            "Mounted at /content/drive\n"
          ]
        }
      ],
      "source": [
        "from google.colab import drive\n",
        "drive.mount('/content/drive')"
      ]
    },
    {
      "cell_type": "code",
      "source": [
        "import pandas as pd\n",
        "import numpy as np\n",
        "import keras\n",
        "from keras.layers import Input, Dense, LSTM, Embedding, concatenate\n",
        "from sklearn.preprocessing import MinMaxScaler\n",
        "from sklearn.model_selection import train_test_split\n",
        "from keras.preprocessing.text import Tokenizer\n",
        "from keras.preprocessing.sequence import pad_sequences\n",
        "from keras.models import Sequential, Model\n",
        "import matplotlib.pyplot as plt\n",
        "from sklearn.metrics import mean_squared_error, mean_absolute_error, r2_score"
      ],
      "metadata": {
        "id": "x0UDyJNuRmPo"
      },
      "execution_count": 3,
      "outputs": []
    },
    {
      "cell_type": "markdown",
      "source": [
        "## Merge the datasets (and pre-process if needed)"
      ],
      "metadata": {
        "id": "Tz_fWR1jP38B"
      }
    },
    {
      "cell_type": "code",
      "source": [],
      "metadata": {
        "id": "1eOLcfVhP4Pc"
      },
      "execution_count": null,
      "outputs": []
    },
    {
      "cell_type": "markdown",
      "source": [
        "## Group the datasets into time intervals of 1 hour"
      ],
      "metadata": {
        "id": "rXhzydT7P8BG"
      }
    },
    {
      "cell_type": "code",
      "source": [],
      "metadata": {
        "id": "C837E_hfP8Ye"
      },
      "execution_count": null,
      "outputs": []
    },
    {
      "cell_type": "markdown",
      "source": [
        "## Create lags"
      ],
      "metadata": {
        "id": "LdqG53IuQAAG"
      }
    },
    {
      "cell_type": "code",
      "source": [],
      "metadata": {
        "id": "ycJSheI-QASd"
      },
      "execution_count": null,
      "outputs": []
    },
    {
      "cell_type": "markdown",
      "source": [
        "## Split the dataset into 80% training and 20% testing datasets"
      ],
      "metadata": {
        "id": "CnTDTeXRQCvM"
      }
    },
    {
      "cell_type": "code",
      "source": [],
      "metadata": {
        "id": "XVv1ss32QDYF"
      },
      "execution_count": null,
      "outputs": []
    },
    {
      "cell_type": "markdown",
      "source": [
        "## Create the model, pre-process the data and make it suitable for training"
      ],
      "metadata": {
        "id": "xRxrGjfKQF2o"
      }
    },
    {
      "cell_type": "code",
      "source": [],
      "metadata": {
        "id": "-T_dnGawQGP0"
      },
      "execution_count": null,
      "outputs": []
    },
    {
      "cell_type": "markdown",
      "source": [
        "## Train the model, use 20% of the training dataset for validation\n",
        "Train with 10 epochs (due to time limit)"
      ],
      "metadata": {
        "id": "uok6tjRYQLnx"
      }
    },
    {
      "cell_type": "code",
      "source": [],
      "metadata": {
        "id": "Esb4QPdjQMFm"
      },
      "execution_count": null,
      "outputs": []
    },
    {
      "cell_type": "markdown",
      "source": [
        "## Plot the loss function on the training and validation dataset"
      ],
      "metadata": {
        "id": "Ne17-WQ8QYzp"
      }
    },
    {
      "cell_type": "code",
      "source": [],
      "metadata": {
        "id": "6GoCMdixQZEz"
      },
      "execution_count": null,
      "outputs": []
    },
    {
      "cell_type": "markdown",
      "source": [
        "## Calculate the adequate metrics"
      ],
      "metadata": {
        "id": "GtoKw45QQbWD"
      }
    },
    {
      "cell_type": "code",
      "source": [],
      "metadata": {
        "id": "xj2z3yOJQbmT"
      },
      "execution_count": null,
      "outputs": []
    },
    {
      "cell_type": "markdown",
      "source": [
        "## Visualize the targets against the predictions"
      ],
      "metadata": {
        "id": "advpddoUQeQd"
      }
    },
    {
      "cell_type": "code",
      "source": [],
      "metadata": {
        "id": "21oH-o47Qek6"
      },
      "execution_count": null,
      "outputs": []
    }
  ]
}