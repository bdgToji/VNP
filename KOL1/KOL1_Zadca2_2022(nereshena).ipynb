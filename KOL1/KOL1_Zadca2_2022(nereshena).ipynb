{
  "nbformat": 4,
  "nbformat_minor": 0,
  "metadata": {
    "colab": {
      "provenance": []
    },
    "kernelspec": {
      "name": "python3",
      "display_name": "Python 3"
    },
    "language_info": {
      "name": "python"
    }
  },
  "cells": [
    {
      "cell_type": "markdown",
      "source": [
        "# Задача 2"
      ],
      "metadata": {
        "id": "2aTSTCS6iJcz"
      }
    },
    {
      "cell_type": "markdown",
      "source": [
        "# Симнете го податочното множество\n",
        "извршете го овој блок, т.ш. ќе ја замените ID вредноста со таа која ви е дадена во текстот на задачата"
      ],
      "metadata": {
        "id": "ow2sfh5oiO8q"
      }
    },
    {
      "cell_type": "code",
      "execution_count": 1,
      "metadata": {
        "id": "2LxcR3onh5qt"
      },
      "outputs": [],
      "source": [
        "import pandas as pd"
      ]
    },
    {
      "cell_type": "code",
      "source": [
        "from google.colab import drive\n",
        "drive.mount('/content/drive')"
      ],
      "metadata": {
        "id": "8iKWJ_jziH63"
      },
      "execution_count": null,
      "outputs": []
    },
    {
      "cell_type": "markdown",
      "source": [
        "# Направете визуелизација на таргет колоната"
      ],
      "metadata": {
        "id": "KcRjGxD-iWth"
      }
    },
    {
      "cell_type": "code",
      "source": [],
      "metadata": {
        "id": "jHCuDznyiXFz"
      },
      "execution_count": null,
      "outputs": []
    },
    {
      "cell_type": "markdown",
      "source": [
        "# Направете различни статистики за колоните"
      ],
      "metadata": {
        "id": "b-wmB9nxiXKs"
      }
    },
    {
      "cell_type": "code",
      "source": [],
      "metadata": {
        "id": "j7SGyZWNiYsX"
      },
      "execution_count": null,
      "outputs": []
    },
    {
      "cell_type": "markdown",
      "source": [
        "# Визуелно прикажете ги вредностите кои недостасуваат и корелацијата помеѓу истите\n",
        "ПРАШАЊЕ: Дали може да се донесе одреден заклучок од овие визуелизации?\n",
        "- Нема силна зависност помеѓу податоците што фалат во колоните"
      ],
      "metadata": {
        "id": "pZXy_eNKidGq"
      }
    },
    {
      "cell_type": "code",
      "source": [],
      "metadata": {
        "id": "aEpj577GinNS"
      },
      "execution_count": null,
      "outputs": []
    },
    {
      "cell_type": "markdown",
      "source": [
        "# Справете се со вредностите кои недостасуваат\n",
        "ПРАШАЊЕ: На кој начин се справувате со вредностите кои недостасуваат? Зошто го избравте тој начин?\n",
        "\n",
        "-Absolute Magnitude следи нормална распределба па може да внесеме mean, за другите одлучив за MICE imputation бидејќи се покомплексни"
      ],
      "metadata": {
        "id": "nlViLH8VinSO"
      }
    },
    {
      "cell_type": "code",
      "source": [],
      "metadata": {
        "id": "36LRXhgPiq3K"
      },
      "execution_count": null,
      "outputs": []
    },
    {
      "cell_type": "markdown",
      "source": [
        "# Одредете кои ќе ви бидат влезни податоци\n",
        "првите 4 колони не се потребни бидејќи се ид или имиња"
      ],
      "metadata": {
        "id": "DieI0Pqtiq8M"
      }
    },
    {
      "cell_type": "code",
      "source": [],
      "metadata": {
        "id": "l3cNEO9eiuWq"
      },
      "execution_count": null,
      "outputs": []
    },
    {
      "cell_type": "markdown",
      "source": [
        "# Поделете го податочното множество на две множества: за тренирање и тестирање"
      ],
      "metadata": {
        "id": "dgobvmWziugk"
      }
    },
    {
      "cell_type": "code",
      "source": [],
      "metadata": {
        "id": "wRr-2EtOixWx"
      },
      "execution_count": null,
      "outputs": []
    },
    {
      "cell_type": "markdown",
      "source": [
        "# Изградете модел и тренирајте го"
      ],
      "metadata": {
        "id": "XyN_L7IuixdL"
      }
    },
    {
      "cell_type": "code",
      "source": [],
      "metadata": {
        "id": "Sk7p6fVdizop"
      },
      "execution_count": null,
      "outputs": []
    },
    {
      "cell_type": "markdown",
      "source": [
        "# Тестирајте го моделот со помош на соодветни метрики за евалуација (изберете барем 3 метрики)\n",
        "ПРАШАЊЕ: Какви вредности добивте за соодветните метрики? (Објаснете го значењето на таквите вредности!)\n",
        "\n",
        "ПРАШАЊЕ: Како би добиле подобри резултати, односно кои би биле можни подобрувања?\n",
        "\n",
        "-f1 score е лош за True вредноста од таргет колоната. Тоа е веројатно бидејќи има скоро 5 пати повеќе False класи од True. Може да drop редици така што овие класи би биле еднакво застапени. Исто така може да се подобри моделот со тоа што ке се скалираат некои колони кои немаат нормална распределба. Пример колоната Asc Node Longitude\n",
        "\n",
        "-Солиден r^2 за тестирачкото множество"
      ],
      "metadata": {
        "id": "3RsifZMfizsT"
      }
    },
    {
      "cell_type": "code",
      "source": [],
      "metadata": {
        "id": "l7lWpcoUi-y2"
      },
      "execution_count": null,
      "outputs": []
    },
    {
      "cell_type": "markdown",
      "source": [],
      "metadata": {
        "id": "kWefRy4ji-3Z"
      }
    }
  ]
}
