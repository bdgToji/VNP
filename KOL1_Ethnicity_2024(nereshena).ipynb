{
  "nbformat": 4,
  "nbformat_minor": 0,
  "metadata": {
    "colab": {
      "provenance": []
    },
    "kernelspec": {
      "name": "python3",
      "display_name": "Python 3"
    },
    "language_info": {
      "name": "python"
    }
  },
  "cells": [
    {
      "cell_type": "markdown",
      "source": [
        "#Task 1:\n",
        "This dataset includes scores from three test scores of students at a (fictional) public school and a variety of personal and socio-economic factors that may have interaction effects upon them.\n",
        "Column description:\n",
        "1.  `Gender`: Gender of the student (male/female)\n",
        "2.  `EthnicGroup`: Ethnic group of the student (group A to E)\n",
        "3.  `ParentEduc`: Parent(s) education background (from some_highschool to master's degree)\n",
        "4.  `LunchType`: School lunch type (standard or free/reduced)\n",
        "5.  `TestPrep`: Test preparation course followed (completed or none)\n",
        "6.  `ParentMaritalStatus`: Parent(s) marital status (married/single/widowed/divorced)\n",
        "7.  `PracticeSport`: How often the student parctice sport (never/sometimes/regularly))\n",
        "8.  `IsFirstChild`: If the child is first child in the family or not (yes/no)\n",
        "9.  `NrSiblings`: Number of siblings the student has (0 to 7)\n",
        "10. `TransportMeans`: Means of transport to school (schoolbus/private)\n",
        "11. `WklyStudyHours`: Weekly self-study hours(less that 5hrs; between 5 and 10hrs; more than 10hrs)\n",
        "12. `MathScore`: math test score(0-100)\n",
        "13. `ReadingScore`: reading test score(0-100)\n",
        "13. `WritingScore`: writing test score(0-100)"
      ],
      "metadata": {
        "id": "Btq52DoyZxNM"
      }
    },
    {
      "cell_type": "markdown",
      "source": [
        "#Download the dataset\n",
        "Run the cell below"
      ],
      "metadata": {
        "id": "gfNGL5qeYFTM"
      }
    },
    {
      "cell_type": "code",
      "execution_count": null,
      "metadata": {
        "colab": {
          "base_uri": "https://localhost:8080/"
        },
        "id": "91JvvXIAXrfA",
        "outputId": "c5971fa6-9d82-42e8-848f-0ddd79b6ffac"
      },
      "outputs": [
        {
          "output_type": "stream",
          "name": "stdout",
          "text": [
            "Downloading...\n",
            "From: https://drive.google.com/uc?id=1La5PlbYWPH1VyiE8Zq2BDAYWqtpd56Z2\n",
            "To: /content/Expanded_data_with_more_features.csv\n",
            "\r  0% 0.00/2.91M [00:00<?, ?B/s]\r100% 2.91M/2.91M [00:00<00:00, 136MB/s]\n"
          ]
        }
      ],
      "source": [
        "!gdown 1La5PlbYWPH1VyiE8Zq2BDAYWqtpd56Z2"
      ]
    },
    {
      "cell_type": "code",
      "source": [
        "from google.colab import drive\n",
        "drive.mount('/content/drive')"
      ],
      "metadata": {
        "colab": {
          "base_uri": "https://localhost:8080/"
        },
        "id": "RqCRF96kvw-U",
        "outputId": "ef6f78a8-ca19-4f9a-bef9-0759d19f816b"
      },
      "execution_count": 1,
      "outputs": [
        {
          "output_type": "stream",
          "name": "stdout",
          "text": [
            "Mounted at /content/drive\n"
          ]
        }
      ]
    },
    {
      "cell_type": "markdown",
      "source": [
        "#Read the dataset"
      ],
      "metadata": {
        "id": "isHh5kJ2YI88"
      }
    },
    {
      "cell_type": "code",
      "source": [
        "import pandas as pd\n",
        "data = pd.read_csv('/content/Expanded_data_with_more_features.csv')"
      ],
      "metadata": {
        "id": "3EircpQLD_cI"
      },
      "execution_count": null,
      "outputs": []
    },
    {
      "cell_type": "markdown",
      "source": [
        "#Visualization"
      ],
      "metadata": {
        "id": "koGMIBlZY50j"
      }
    },
    {
      "cell_type": "code",
      "source": [
        "data['ReadingScore'].plot.hist()"
      ],
      "metadata": {
        "id": "EL85rNQiD_0J",
        "colab": {
          "base_uri": "https://localhost:8080/",
          "height": 447
        },
        "outputId": "9fdc409c-1c9b-42b6-b0c0-def0f3a23adb"
      },
      "execution_count": null,
      "outputs": [
        {
          "output_type": "execute_result",
          "data": {
            "text/plain": [
              "<Axes: ylabel='Frequency'>"
            ]
          },
          "metadata": {},
          "execution_count": 8
        },
        {
          "output_type": "display_data",
          "data": {
            "text/plain": [
              "<Figure size 640x480 with 1 Axes>"
            ],
            "image/png": "[encoded data removed]"
          },
          "metadata": {}
        }
      ]
    },
    {
      "cell_type": "markdown",
      "source": [
        "#Missing Values & Textual data"
      ],
      "metadata": {
        "id": "wYAkbrIwY3Ii"
      }
    },
    {
      "cell_type": "code",
      "source": [],
      "metadata": {
        "id": "EUyfHC2dYhTe"
      },
      "execution_count": null,
      "outputs": []
    },
    {
      "cell_type": "markdown",
      "source": [
        "#Train - test split of the dataset (80:20 ratio)"
      ],
      "metadata": {
        "id": "I44lFlV8EAf5"
      }
    },
    {
      "cell_type": "code",
      "source": [],
      "metadata": {
        "id": "luNEwu6mEEpj"
      },
      "execution_count": null,
      "outputs": []
    },
    {
      "cell_type": "markdown",
      "source": [
        "#Model training (Use KNN, Logistic regression or Linear regression)"
      ],
      "metadata": {
        "id": "o5w7X0GrEFWJ"
      }
    },
    {
      "cell_type": "code",
      "source": [],
      "metadata": {
        "id": "FnfiB96WEGZ2"
      },
      "execution_count": null,
      "outputs": []
    },
    {
      "cell_type": "markdown",
      "source": [
        "#Model evaluation"
      ],
      "metadata": {
        "id": "9Fh0rssAEGzN"
      }
    },
    {
      "cell_type": "code",
      "source": [],
      "metadata": {
        "id": "joRflyPZEIHv"
      },
      "execution_count": null,
      "outputs": []
    }
  ]
}