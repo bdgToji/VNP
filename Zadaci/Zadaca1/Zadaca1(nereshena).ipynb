{
  "nbformat": 4,
  "nbformat_minor": 0,
  "metadata": {
    "colab": {
      "provenance": []
    },
    "kernelspec": {
      "name": "python3",
      "display_name": "Python 3"
    },
    "language_info": {
      "name": "python"
    }
  },
  "cells": [
    {
      "cell_type": "markdown",
      "source": [
        "# Симнете го податочното множество"
      ],
      "metadata": {
        "id": "M_D5nsHRn0x1"
      }
    },
    {
      "cell_type": "code",
      "execution_count": 1,
      "metadata": {
        "colab": {
          "base_uri": "https://localhost:8080/"
        },
        "id": "4MNga9jgnyQi",
        "outputId": "aeb55cbf-f056-4a07-83ec-2c380430b432"
      },
      "outputs": [
        {
          "output_type": "stream",
          "name": "stdout",
          "text": [
            "Mounted at /content/drive\n"
          ]
        }
      ],
      "source": [
        "from google.colab import drive\n",
        "drive.mount('/content/drive')"
      ]
    },
    {
      "cell_type": "code",
      "source": [
        "import pandas as pd"
      ],
      "metadata": {
        "id": "CM2kzQCJtIzl"
      },
      "execution_count": 2,
      "outputs": []
    },
    {
      "cell_type": "code",
      "source": [
        "df = pd.read_csv('/content/drive/MyDrive/VNP/fetal_health.csv')"
      ],
      "metadata": {
        "id": "awApryZ_tLFM"
      },
      "execution_count": 3,
      "outputs": []
    },
    {
      "cell_type": "markdown",
      "source": [
        "# Направете претпроцесирање на податоците"
      ],
      "metadata": {
        "id": "kFRF0Kg9oEmv"
      }
    },
    {
      "cell_type": "code",
      "source": [],
      "metadata": {
        "id": "8VVkzSruoFOE"
      },
      "execution_count": null,
      "outputs": []
    },
    {
      "cell_type": "markdown",
      "source": [
        "# Поделето го на тренирачко и тестирачко множество во сооднос 80:20"
      ],
      "metadata": {
        "id": "xzshqoNzoFkZ"
      }
    },
    {
      "cell_type": "code",
      "source": [],
      "metadata": {
        "id": "C9saayeWoIdv"
      },
      "execution_count": null,
      "outputs": []
    },
    {
      "cell_type": "markdown",
      "source": [
        "# Искористете соодветна невронска мрежа"
      ],
      "metadata": {
        "id": "rE39v9g1oIo7"
      }
    },
    {
      "cell_type": "code",
      "source": [],
      "metadata": {
        "id": "HDUBfosmojoL"
      },
      "execution_count": null,
      "outputs": []
    },
    {
      "cell_type": "markdown",
      "source": [
        "# Тестирајте го моделот на тестирачкото множество со метриките за евалуација на дадениот проблем"
      ],
      "metadata": {
        "id": "yYqAu1ewojrw"
      }
    },
    {
      "cell_type": "code",
      "source": [],
      "metadata": {
        "id": "F55RUmU5oq5L"
      },
      "execution_count": null,
      "outputs": []
    }
  ]
}