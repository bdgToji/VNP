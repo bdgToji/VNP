{
  "nbformat": 4,
  "nbformat_minor": 0,
  "metadata": {
    "colab": {
      "provenance": []
    },
    "kernelspec": {
      "name": "python3",
      "display_name": "Python 3"
    },
    "language_info": {
      "name": "python"
    }
  },
  "cells": [
    {
      "cell_type": "markdown",
      "source": [
        "# Симнете го податочното множество"
      ],
      "metadata": {
        "id": "cGut9afzCEdO"
      }
    },
    {
      "cell_type": "code",
      "execution_count": 1,
      "metadata": {
        "colab": {
          "base_uri": "https://localhost:8080/"
        },
        "id": "FvrwZtMMBT6t",
        "outputId": "b3222c1e-de5e-4db4-9753-67c360e6baac"
      },
      "outputs": [
        {
          "output_type": "stream",
          "name": "stdout",
          "text": [
            "Downloading...\n",
            "From: https://drive.google.com/uc?id=14YlgjT_M8kDrvDKEv864fs7ZyI1lMErO\n",
            "To: /content/crypto_data.csv\n",
            "\r  0% 0.00/90.0k [00:00<?, ?B/s]\r100% 90.0k/90.0k [00:00<00:00, 64.5MB/s]\n"
          ]
        }
      ],
      "source": [
        "!gdown 14YlgjT_M8kDrvDKEv864fs7ZyI1lMErO"
      ]
    },
    {
      "cell_type": "code",
      "source": [
        "from google.colab import drive\n",
        "drive.mount('/content/drive')"
      ],
      "metadata": {
        "colab": {
          "base_uri": "https://localhost:8080/"
        },
        "id": "bVG3ND8fCq5N",
        "outputId": "d9ae0cfe-f229-4a92-cbe3-71895c6177df"
      },
      "execution_count": 2,
      "outputs": [
        {
          "output_type": "stream",
          "name": "stdout",
          "text": [
            "Mounted at /content/drive\n"
          ]
        }
      ]
    },
    {
      "cell_type": "code",
      "source": [
        "import pandas as pd"
      ],
      "metadata": {
        "id": "YTZhVcoNDANk"
      },
      "execution_count": 3,
      "outputs": []
    },
    {
      "cell_type": "code",
      "source": [
        "df = pd.read_csv('/content/crypto_data.csv')"
      ],
      "metadata": {
        "id": "4E1idyOwDEl2"
      },
      "execution_count": 4,
      "outputs": []
    },
    {
      "cell_type": "markdown",
      "source": [
        "# Направете претпроцесирање на податоците"
      ],
      "metadata": {
        "id": "NOoC8oldCHKV"
      }
    },
    {
      "cell_type": "code",
      "source": [],
      "metadata": {
        "id": "3OQyBNB2CHNe"
      },
      "execution_count": null,
      "outputs": []
    },
    {
      "cell_type": "markdown",
      "source": [
        "# Поделето го на тренирачко и тестирачко множество во сооднос 80:20"
      ],
      "metadata": {
        "id": "Exhu17GHCKaQ"
      }
    },
    {
      "cell_type": "code",
      "source": [],
      "metadata": {
        "id": "dWa5jERuCKfF"
      },
      "execution_count": null,
      "outputs": []
    },
    {
      "cell_type": "markdown",
      "source": [
        "# Искористете соодветен Boosting модел за проблемот"
      ],
      "metadata": {
        "id": "txumWUu3COBV"
      }
    },
    {
      "cell_type": "code",
      "source": [],
      "metadata": {
        "id": "yOlPtDu6COFo"
      },
      "execution_count": null,
      "outputs": []
    },
    {
      "cell_type": "markdown",
      "source": [
        "# Тестирајте го моделот на тестирачкото множество со метриките за евалуација на дадениот проблем"
      ],
      "metadata": {
        "id": "oJQZwbgoCQFR"
      }
    },
    {
      "cell_type": "code",
      "source": [],
      "metadata": {
        "id": "k9mRWPr9CQJe"
      },
      "execution_count": null,
      "outputs": []
    }
  ]
}
